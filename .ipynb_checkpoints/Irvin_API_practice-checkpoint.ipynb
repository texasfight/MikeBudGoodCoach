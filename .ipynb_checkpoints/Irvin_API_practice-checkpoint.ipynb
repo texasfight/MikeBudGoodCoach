{
 "cells": [
  {
   "cell_type": "code",
   "execution_count": 9,
   "id": "2e6b4d4e-1d06-40cf-9961-489c22a7e066",
   "metadata": {},
   "outputs": [],
   "source": [
    "from nba_api.stats.static import teams\n",
    "from nba_api.stats.endpoints import teamdashboardbyteamperformance\n",
    "\n",
    "import os\n",
    "\n",
    "import pandas as pd"
   ]
  },
  {
   "cell_type": "code",
   "execution_count": 2,
   "id": "479b9e30-5367-4fa4-85e9-1212717b1bc6",
   "metadata": {},
   "outputs": [],
   "source": [
    "MKE_id = teams.find_team_by_abbreviation(\"MIL\")[\"id\"]\n",
    "SAS_id = teams.find_team_by_abbreviation(\"SAS\")[\"id\"]"
   ]
  },
  {
   "cell_type": "code",
   "execution_count": 3,
   "id": "d9a3b257-3a08-4629-8467-6c87fea4ae01",
   "metadata": {},
   "outputs": [],
   "source": [
    "dash_info = teamdashboardbyteamperformance.TeamDashboardByTeamPerformance(\n",
    "    team_id=MKE_id, \n",
    "    per_mode_detailed=teamdashboardbyteamperformance.PerModeDetailed.per_100_possessions, \n",
    "    season='1996-97')"
   ]
  },
  {
   "cell_type": "code",
   "execution_count": 4,
   "id": "ed578837-ece3-4625-a10a-9f9e426f95e5",
   "metadata": {},
   "outputs": [
    {
     "data": {
      "text/html": [
       "<div>\n",
       "<style scoped>\n",
       "    .dataframe tbody tr th:only-of-type {\n",
       "        vertical-align: middle;\n",
       "    }\n",
       "\n",
       "    .dataframe tbody tr th {\n",
       "        vertical-align: top;\n",
       "    }\n",
       "\n",
       "    .dataframe thead th {\n",
       "        text-align: right;\n",
       "    }\n",
       "</style>\n",
       "<table border=\"1\" class=\"dataframe\">\n",
       "  <thead>\n",
       "    <tr style=\"text-align: right;\">\n",
       "      <th></th>\n",
       "      <th>GROUP_SET</th>\n",
       "      <th>GROUP_VALUE</th>\n",
       "      <th>GP</th>\n",
       "      <th>W</th>\n",
       "      <th>L</th>\n",
       "      <th>W_PCT</th>\n",
       "      <th>MIN</th>\n",
       "      <th>FGM</th>\n",
       "      <th>FGA</th>\n",
       "      <th>FG_PCT</th>\n",
       "      <th>...</th>\n",
       "      <th>TOV_RANK</th>\n",
       "      <th>STL_RANK</th>\n",
       "      <th>BLK_RANK</th>\n",
       "      <th>BLKA_RANK</th>\n",
       "      <th>PF_RANK</th>\n",
       "      <th>PFD_RANK</th>\n",
       "      <th>PTS_RANK</th>\n",
       "      <th>PLUS_MINUS_RANK</th>\n",
       "      <th>CFID</th>\n",
       "      <th>CFPARAMS</th>\n",
       "    </tr>\n",
       "  </thead>\n",
       "  <tbody>\n",
       "    <tr>\n",
       "      <th>0</th>\n",
       "      <td>Overall</td>\n",
       "      <td>1996-97</td>\n",
       "      <td>82</td>\n",
       "      <td>33</td>\n",
       "      <td>49</td>\n",
       "      <td>0.402</td>\n",
       "      <td>52.9</td>\n",
       "      <td>39.7</td>\n",
       "      <td>84.4</td>\n",
       "      <td>0.471</td>\n",
       "      <td>...</td>\n",
       "      <td>1</td>\n",
       "      <td>1</td>\n",
       "      <td>1</td>\n",
       "      <td>1</td>\n",
       "      <td>1</td>\n",
       "      <td>1</td>\n",
       "      <td>1</td>\n",
       "      <td>1</td>\n",
       "      <td>175</td>\n",
       "      <td>1996-97</td>\n",
       "    </tr>\n",
       "  </tbody>\n",
       "</table>\n",
       "<p>1 rows × 56 columns</p>\n",
       "</div>"
      ],
      "text/plain": [
       "  GROUP_SET GROUP_VALUE  GP   W   L  W_PCT   MIN   FGM   FGA  FG_PCT  ...  \\\n",
       "0   Overall     1996-97  82  33  49  0.402  52.9  39.7  84.4   0.471  ...   \n",
       "\n",
       "   TOV_RANK  STL_RANK  BLK_RANK  BLKA_RANK  PF_RANK  PFD_RANK  PTS_RANK  \\\n",
       "0         1         1         1          1        1         1         1   \n",
       "\n",
       "   PLUS_MINUS_RANK  CFID  CFPARAMS  \n",
       "0                1   175   1996-97  \n",
       "\n",
       "[1 rows x 56 columns]"
      ]
     },
     "execution_count": 4,
     "metadata": {},
     "output_type": "execute_result"
    }
   ],
   "source": [
    "dash_info.get_data_frames()[0]"
   ]
  },
  {
   "cell_type": "code",
   "execution_count": 8,
   "id": "153ae1dc-b70b-486a-80f7-0c775f4acc1a",
   "metadata": {},
   "outputs": [],
   "source": [
    "bud_seasons = {\"ATL\": [13, 14, 15, 16, 17],\n",
    "               \"MIL\": [18, 19, 20]\n",
    "              }"
   ]
  },
  {
   "cell_type": "code",
   "execution_count": 14,
   "id": "2dab43a5-d656-4604-befe-d829a9dc34cc",
   "metadata": {},
   "outputs": [],
   "source": [
    "# Create a folder to hold any data we export\n",
    "DATA_PATH = \"./data\"\n",
    "if not os.path.isdir(DATA_PATH):\n",
    "        os.mkdir(DATA_PATH)\n",
    "\n",
    "def generate_dataset(team_dict: dict, coach: str):\n",
    "        \n",
    "    # Create a folder for the coach you're about to get DataFrames for\n",
    "    coach_path = os.path.join(DATA_PATH, coach)\n",
    "    if not os.path.isdir(coach_path):\n",
    "        os.mkdir(coach_path)\n",
    "    \n",
    "    # iterate through the teams for the coach\n",
    "    for team in bud_seasons.keys():\n",
    "        # Grab team ID from the static information\n",
    "        team_id = teams.find_team_by_abbreviation(team)[\"id\"]\n",
    "        # Get the list of years\n",
    "        years = bud_seasons[team]\n",
    "        # Format the years into proper season strings\n",
    "        seasons = [f\"20{year}-{year+1}\" for year in years]\n",
    "        for season in seasons:\n",
    "            team_100_poss_stats = teamdashboardbyteamperformance.TeamDashboardByTeamPerformance(\n",
    "                                                                        team_id=team_id, \n",
    "                                                                        per_mode_detailed=teamdashboardbyteamperformance.PerModeDetailed.per_100_possessions, \n",
    "                                                                        season=season).get_data_frames()[0]\n",
    "\n",
    "            team_100_poss_stats.to_csv(os.path.join(coach_path, f\"{team}_{season}.csv\"), index=False)\n"
   ]
  },
  {
   "cell_type": "code",
   "execution_count": 15,
   "id": "b6d7cb26-b11e-4607-82da-cae47c13fca7",
   "metadata": {},
   "outputs": [],
   "source": [
    "generate_dataset(bud_seasons, \"Budenholzer\")"
   ]
  },
  {
   "cell_type": "code",
   "execution_count": null,
   "id": "c032ce51-bbf7-4161-8549-02c38ad185bc",
   "metadata": {},
   "outputs": [],
   "source": [
    "pop_seasons = {\"SAS\": [0, "
   ]
  }
 ],
 "metadata": {
  "kernelspec": {
   "display_name": "Python 3",
   "language": "python",
   "name": "python3"
  },
  "language_info": {
   "codemirror_mode": {
    "name": "ipython",
    "version": 3
   },
   "file_extension": ".py",
   "mimetype": "text/x-python",
   "name": "python",
   "nbconvert_exporter": "python",
   "pygments_lexer": "ipython3",
   "version": "3.8.11"
  }
 },
 "nbformat": 4,
 "nbformat_minor": 5
}
