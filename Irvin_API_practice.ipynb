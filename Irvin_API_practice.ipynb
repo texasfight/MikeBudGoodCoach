{
 "cells": [
  {
   "cell_type": "code",
   "execution_count": 1,
   "id": "2e6b4d4e-1d06-40cf-9961-489c22a7e066",
   "metadata": {},
   "outputs": [],
   "source": [
    "from nba_api.stats.static import teams\n",
    "from nba_api.stats.endpoints import teamdashboardbyteamperformance"
   ]
  },
  {
   "cell_type": "code",
   "execution_count": 2,
   "id": "479b9e30-5367-4fa4-85e9-1212717b1bc6",
   "metadata": {},
   "outputs": [],
   "source": [
    "MKE_id = teams.find_team_by_abbreviation(\"MIL\")[\"id\"]\n",
    "SAS_id = teams.find_team_by_abbreviation(\"SAS\")[\"id\"]"
   ]
  },
  {
   "cell_type": "code",
   "execution_count": 3,
   "id": "d9a3b257-3a08-4629-8467-6c87fea4ae01",
   "metadata": {},
   "outputs": [],
   "source": [
    "dash_info = teamdashboardbyteamperformance.TeamDashboardByTeamPerformance(team_id=MKE_id, per_mode_detailed=teamdashboardbyteamperformance.PerModeDetailed.per_100_possessions, season='1996-97')"
   ]
  },
  {
   "cell_type": "code",
   "execution_count": 4,
   "id": "ed578837-ece3-4625-a10a-9f9e426f95e5",
   "metadata": {},
   "outputs": [
    {
     "data": {
      "text/html": [
       "<div>\n",
       "<style scoped>\n",
       "    .dataframe tbody tr th:only-of-type {\n",
       "        vertical-align: middle;\n",
       "    }\n",
       "\n",
       "    .dataframe tbody tr th {\n",
       "        vertical-align: top;\n",
       "    }\n",
       "\n",
       "    .dataframe thead th {\n",
       "        text-align: right;\n",
       "    }\n",
       "</style>\n",
       "<table border=\"1\" class=\"dataframe\">\n",
       "  <thead>\n",
       "    <tr style=\"text-align: right;\">\n",
       "      <th></th>\n",
       "      <th>GROUP_SET</th>\n",
       "      <th>GROUP_VALUE</th>\n",
       "      <th>GP</th>\n",
       "      <th>W</th>\n",
       "      <th>L</th>\n",
       "      <th>W_PCT</th>\n",
       "      <th>MIN</th>\n",
       "      <th>FGM</th>\n",
       "      <th>FGA</th>\n",
       "      <th>FG_PCT</th>\n",
       "      <th>...</th>\n",
       "      <th>TOV_RANK</th>\n",
       "      <th>STL_RANK</th>\n",
       "      <th>BLK_RANK</th>\n",
       "      <th>BLKA_RANK</th>\n",
       "      <th>PF_RANK</th>\n",
       "      <th>PFD_RANK</th>\n",
       "      <th>PTS_RANK</th>\n",
       "      <th>PLUS_MINUS_RANK</th>\n",
       "      <th>CFID</th>\n",
       "      <th>CFPARAMS</th>\n",
       "    </tr>\n",
       "  </thead>\n",
       "  <tbody>\n",
       "    <tr>\n",
       "      <th>0</th>\n",
       "      <td>Overall</td>\n",
       "      <td>1996-97</td>\n",
       "      <td>82</td>\n",
       "      <td>33</td>\n",
       "      <td>49</td>\n",
       "      <td>0.402</td>\n",
       "      <td>52.9</td>\n",
       "      <td>39.7</td>\n",
       "      <td>84.4</td>\n",
       "      <td>0.471</td>\n",
       "      <td>...</td>\n",
       "      <td>1</td>\n",
       "      <td>1</td>\n",
       "      <td>1</td>\n",
       "      <td>1</td>\n",
       "      <td>1</td>\n",
       "      <td>1</td>\n",
       "      <td>1</td>\n",
       "      <td>1</td>\n",
       "      <td>175</td>\n",
       "      <td>1996-97</td>\n",
       "    </tr>\n",
       "  </tbody>\n",
       "</table>\n",
       "<p>1 rows × 56 columns</p>\n",
       "</div>"
      ],
      "text/plain": [
       "  GROUP_SET GROUP_VALUE  GP   W   L  W_PCT   MIN   FGM   FGA  FG_PCT  ...  \\\n",
       "0   Overall     1996-97  82  33  49  0.402  52.9  39.7  84.4   0.471  ...   \n",
       "\n",
       "   TOV_RANK  STL_RANK  BLK_RANK  BLKA_RANK  PF_RANK  PFD_RANK  PTS_RANK  \\\n",
       "0         1         1         1          1        1         1         1   \n",
       "\n",
       "   PLUS_MINUS_RANK  CFID  CFPARAMS  \n",
       "0                1   175   1996-97  \n",
       "\n",
       "[1 rows x 56 columns]"
      ]
     },
     "execution_count": 4,
     "metadata": {},
     "output_type": "execute_result"
    }
   ],
   "source": [
    "dash_info.get_data_frames()[0]"
   ]
  }
 ],
 "metadata": {
  "kernelspec": {
   "display_name": "Python 3",
   "language": "python",
   "name": "python3"
  },
  "language_info": {
   "codemirror_mode": {
    "name": "ipython",
    "version": 3
   },
   "file_extension": ".py",
   "mimetype": "text/x-python",
   "name": "python",
   "nbconvert_exporter": "python",
   "pygments_lexer": "ipython3",
   "version": "3.8.10"
  }
 },
 "nbformat": 4,
 "nbformat_minor": 5
}
